{
  "nbformat": 4,
  "nbformat_minor": 0,
  "metadata": {
    "colab": {
      "name": "Movie review text classification.ipynb",
      "provenance": [],
      "collapsed_sections": []
    },
    "kernelspec": {
      "name": "python3",
      "display_name": "Python 3"
    }
  },
  "cells": [
    {
      "cell_type": "code",
      "metadata": {
        "id": "KVowZ4mfMhDD"
      },
      "source": [
        "import numpy as np\n",
        "import pandas as pd\n",
        "import os\n",
        "import matplotlib.pyplot as plt\n",
        "import seaborn as sns"
      ],
      "execution_count": null,
      "outputs": []
    },
    {
      "cell_type": "code",
      "metadata": {
        "id": "dn29DRMMPGqh",
        "outputId": "f271886c-5382-41f3-f45a-c71b4cee2c42",
        "colab": {
          "base_uri": "https://localhost:8080/",
          "height": 34
        }
      },
      "source": [
        "from google.colab import drive\n",
        "drive.mount('/content/drive')"
      ],
      "execution_count": null,
      "outputs": [
        {
          "output_type": "stream",
          "text": [
            "Drive already mounted at /content/drive; to attempt to forcibly remount, call drive.mount(\"/content/drive\", force_remount=True).\n"
          ],
          "name": "stdout"
        }
      ]
    },
    {
      "cell_type": "code",
      "metadata": {
        "id": "WSENu5bHUCtq",
        "outputId": "8da10f30-90d7-4b37-bf52-ff4ca53c6422",
        "colab": {
          "base_uri": "https://localhost:8080/",
          "height": 34
        }
      },
      "source": [
        "with open('/content/drive/My Drive/REVIEW CLASSIFIER/train.csv') as train:\n",
        "  print(train)"
      ],
      "execution_count": null,
      "outputs": [
        {
          "output_type": "stream",
          "text": [
            "<_io.TextIOWrapper name='/content/drive/My Drive/REVIEW CLASSIFIER/train.csv' mode='r' encoding='UTF-8'>\n"
          ],
          "name": "stdout"
        }
      ]
    },
    {
      "cell_type": "code",
      "metadata": {
        "id": "AEG-YnDqUbEH"
      },
      "source": [
        "import io\n",
        "#train=pd.read_csv(io.StringIO(uploaded['train.csv'].decode('utf8')))\n",
        "train=pd.read_csv('/content/drive/My Drive/REVIEW CLASSIFIER/train.csv')\n",
        "test=pd.read_csv(\"/content/drive/My Drive/REVIEW CLASSIFIER/test.csv\")"
      ],
      "execution_count": null,
      "outputs": []
    },
    {
      "cell_type": "code",
      "metadata": {
        "id": "TehMy04gY4sp",
        "outputId": "0678d737-9176-41ec-ab73-f99dc50dc008",
        "colab": {
          "base_uri": "https://localhost:8080/",
          "height": 195
        }
      },
      "source": [
        "train.head( )\n"
      ],
      "execution_count": null,
      "outputs": [
        {
          "output_type": "execute_result",
          "data": {
            "text/html": [
              "<div>\n",
              "<style scoped>\n",
              "    .dataframe tbody tr th:only-of-type {\n",
              "        vertical-align: middle;\n",
              "    }\n",
              "\n",
              "    .dataframe tbody tr th {\n",
              "        vertical-align: top;\n",
              "    }\n",
              "\n",
              "    .dataframe thead th {\n",
              "        text-align: right;\n",
              "    }\n",
              "</style>\n",
              "<table border=\"1\" class=\"dataframe\">\n",
              "  <thead>\n",
              "    <tr style=\"text-align: right;\">\n",
              "      <th></th>\n",
              "      <th>Id</th>\n",
              "      <th>Review</th>\n",
              "      <th>Sentiment</th>\n",
              "    </tr>\n",
              "  </thead>\n",
              "  <tbody>\n",
              "    <tr>\n",
              "      <th>0</th>\n",
              "      <td>0</td>\n",
              "      <td>A series of escapades demonstrating the adage ...</td>\n",
              "      <td>1</td>\n",
              "    </tr>\n",
              "    <tr>\n",
              "      <th>1</th>\n",
              "      <td>2</td>\n",
              "      <td>A series</td>\n",
              "      <td>2</td>\n",
              "    </tr>\n",
              "    <tr>\n",
              "      <th>2</th>\n",
              "      <td>3</td>\n",
              "      <td>A</td>\n",
              "      <td>2</td>\n",
              "    </tr>\n",
              "    <tr>\n",
              "      <th>3</th>\n",
              "      <td>6</td>\n",
              "      <td>of</td>\n",
              "      <td>2</td>\n",
              "    </tr>\n",
              "    <tr>\n",
              "      <th>4</th>\n",
              "      <td>7</td>\n",
              "      <td>escapades demonstrating the adage that what is...</td>\n",
              "      <td>2</td>\n",
              "    </tr>\n",
              "  </tbody>\n",
              "</table>\n",
              "</div>"
            ],
            "text/plain": [
              "   Id                                             Review  Sentiment\n",
              "0   0  A series of escapades demonstrating the adage ...          1\n",
              "1   2                                           A series          2\n",
              "2   3                                                  A          2\n",
              "3   6                                                 of          2\n",
              "4   7  escapades demonstrating the adage that what is...          2"
            ]
          },
          "metadata": {
            "tags": []
          },
          "execution_count": 5
        }
      ]
    },
    {
      "cell_type": "code",
      "metadata": {
        "id": "NRBx0HnOr-rd",
        "outputId": "5cac4f57-7198-4d65-9a11-28ead108e1fc",
        "colab": {
          "base_uri": "https://localhost:8080/",
          "height": 195
        }
      },
      "source": [
        "test.head()"
      ],
      "execution_count": null,
      "outputs": [
        {
          "output_type": "execute_result",
          "data": {
            "text/html": [
              "<div>\n",
              "<style scoped>\n",
              "    .dataframe tbody tr th:only-of-type {\n",
              "        vertical-align: middle;\n",
              "    }\n",
              "\n",
              "    .dataframe tbody tr th {\n",
              "        vertical-align: top;\n",
              "    }\n",
              "\n",
              "    .dataframe thead th {\n",
              "        text-align: right;\n",
              "    }\n",
              "</style>\n",
              "<table border=\"1\" class=\"dataframe\">\n",
              "  <thead>\n",
              "    <tr style=\"text-align: right;\">\n",
              "      <th></th>\n",
              "      <th>Id</th>\n",
              "      <th>Review</th>\n",
              "    </tr>\n",
              "  </thead>\n",
              "  <tbody>\n",
              "    <tr>\n",
              "      <th>0</th>\n",
              "      <td>1</td>\n",
              "      <td>A series of escapades demonstrating the adage ...</td>\n",
              "    </tr>\n",
              "    <tr>\n",
              "      <th>1</th>\n",
              "      <td>4</td>\n",
              "      <td>series</td>\n",
              "    </tr>\n",
              "    <tr>\n",
              "      <th>2</th>\n",
              "      <td>5</td>\n",
              "      <td>of escapades demonstrating the adage that what...</td>\n",
              "    </tr>\n",
              "    <tr>\n",
              "      <th>3</th>\n",
              "      <td>12</td>\n",
              "      <td>the adage</td>\n",
              "    </tr>\n",
              "    <tr>\n",
              "      <th>4</th>\n",
              "      <td>14</td>\n",
              "      <td>adage</td>\n",
              "    </tr>\n",
              "  </tbody>\n",
              "</table>\n",
              "</div>"
            ],
            "text/plain": [
              "   Id                                             Review\n",
              "0   1  A series of escapades demonstrating the adage ...\n",
              "1   4                                             series\n",
              "2   5  of escapades demonstrating the adage that what...\n",
              "3  12                                          the adage\n",
              "4  14                                              adage"
            ]
          },
          "metadata": {
            "tags": []
          },
          "execution_count": 6
        }
      ]
    },
    {
      "cell_type": "code",
      "metadata": {
        "id": "bH7TUZvrXCMJ",
        "outputId": "ac9bbd94-5ef5-47a9-d8bc-f571bf9b2537",
        "colab": {
          "base_uri": "https://localhost:8080/"
        }
      },
      "source": [
        "def show_info(data):\n",
        "  print(\"Shape of dataset::\",data.shape)\n",
        "  print(\"columns are: \",data.columns)\n",
        "  print(\"Value analysis: \",data.describe())\n",
        "\n",
        "  print(\"DATA :::\\n\",data.head(4))\n",
        "  \n",
        "  print(\"\\nNull Values analysis::\\n\",data.isna().sum())\n",
        "  \n",
        "\n",
        "show_info(train)\n",
        "print(\"*******************TEST DATA************************\")\n",
        "show_info(test)\n"
      ],
      "execution_count": null,
      "outputs": [
        {
          "output_type": "stream",
          "text": [
            "Shape of dataset:: (109170, 3)\n",
            "columns are:  Index(['Id', 'Review', 'Sentiment'], dtype='object')\n",
            "Value analysis:                    Id      Sentiment\n",
            "count  109170.000000  109170.000000\n",
            "mean    78090.855574       2.064523\n",
            "std     45021.513255       0.892050\n",
            "min         0.000000       0.000000\n",
            "25%     39051.250000       2.000000\n",
            "50%     78134.500000       2.000000\n",
            "75%    116994.750000       3.000000\n",
            "max    156059.000000       4.000000\n",
            "DATA :::\n",
            "    Id                                             Review  Sentiment\n",
            "0   0  A series of escapades demonstrating the adage ...          1\n",
            "1   2                                           A series          2\n",
            "2   3                                                  A          2\n",
            "3   6                                                 of          2\n",
            "\n",
            "Null Values analysis::\n",
            " Id           0\n",
            "Review       0\n",
            "Sentiment    0\n",
            "dtype: int64\n",
            "*******************TEST DATA************************\n",
            "Shape of dataset:: (46890, 2)\n",
            "columns are:  Index(['Id', 'Review'], dtype='object')\n",
            "Value analysis:                    Id\n",
            "count   46890.000000\n",
            "mean    77886.651034\n",
            "std     45119.022368\n",
            "min         1.000000\n",
            "25%     38890.500000\n",
            "50%     77797.500000\n",
            "75%    117124.750000\n",
            "max    156058.000000\n",
            "DATA :::\n",
            "    Id                                             Review\n",
            "0   1  A series of escapades demonstrating the adage ...\n",
            "1   4                                             series\n",
            "2   5  of escapades demonstrating the adage that what...\n",
            "3  12                                          the adage\n",
            "\n",
            "Null Values analysis::\n",
            " Id        0\n",
            "Review    0\n",
            "dtype: int64\n"
          ],
          "name": "stdout"
        }
      ]
    },
    {
      "cell_type": "code",
      "metadata": {
        "id": "PzU3t2CkZpu9",
        "outputId": "78f40a9a-4a17-4bcb-a0c5-10f546f1cf1d",
        "colab": {
          "base_uri": "https://localhost:8080/",
          "height": 350
        }
      },
      "source": [
        "import seaborn as sns\n",
        "\n",
        "sns.countplot(train['Sentiment'])"
      ],
      "execution_count": null,
      "outputs": [
        {
          "output_type": "stream",
          "text": [
            "/usr/local/lib/python3.6/dist-packages/seaborn/_decorators.py:43: FutureWarning: Pass the following variable as a keyword arg: x. From version 0.12, the only valid positional argument will be `data`, and passing other arguments without an explicit keyword will result in an error or misinterpretation.\n",
            "  FutureWarning\n"
          ],
          "name": "stderr"
        },
        {
          "output_type": "execute_result",
          "data": {
            "text/plain": [
              "<matplotlib.axes._subplots.AxesSubplot at 0x7fd09b3962b0>"
            ]
          },
          "metadata": {
            "tags": []
          },
          "execution_count": 8
        },
        {
          "output_type": "display_data",
          "data": {
            "image/png": "[encoded data removed]",
            "text/plain": [
              "<Figure size 432x288 with 1 Axes>"
            ]
          },
          "metadata": {
            "tags": [],
            "needs_background": "light"
          }
        }
      ]
    },
    {
      "cell_type": "code",
      "metadata": {
        "id": "REiPXkBMaQVD"
      },
      "source": [
        "# data preprocessing\n",
        "import nltk\n",
        "from bs4 import BeautifulSoup #web scrapping\n",
        "import re # expression matching operation\n",
        "from tqdm import tqdm\n",
        "from nltk.corpus import stopwords #natural language toolkit\n",
        "from nltk.tokenize import word_tokenize\n",
        "from nltk.stem import WordNetLemmatizer\n",
        "lemmatizer=WordNetLemmatizer()"
      ],
      "execution_count": null,
      "outputs": []
    },
    {
      "cell_type": "code",
      "metadata": {
        "id": "l1U1svOUdUtv"
      },
      "source": [
        "def data_preprocessing(df):\n",
        "    reviews = []\n",
        "    for raw in tqdm(df['Review']):\n",
        "        # remove html tag\n",
        "        text = BeautifulSoup(raw, 'lxml').get_text()\n",
        "        # remove non-letters\n",
        "        letters_only = re.sub('[^a-zA-Z]', ' ', text)\n",
        "        # split(lowercase)\n",
        "        words = word_tokenize(letters_only.lower())\n",
        "        # get stoplist words\n",
        "        stops = set(stopwords.words('english'))\n",
        "        # remove stopwords / get non-stopwords list\n",
        "        non_stopwords = [word for word in words if not word in stops]\n",
        "        # lemmatize word to its lemma\n",
        "        lemma_words = [lemmatizer.lemmatize(word) for word in non_stopwords]    \n",
        "        reviews.append(lemma_words)\n",
        "    return reviews\n"
      ],
      "execution_count": null,
      "outputs": []
    },
    {
      "cell_type": "code",
      "metadata": {
        "id": "7nWoakk2iO_Y",
        "outputId": "e52f837c-386c-4757-b194-627eb8bb8d28",
        "colab": {
          "base_uri": "https://localhost:8080/"
        }
      },
      "source": [
        "nltk.download('punkt')\n",
        "nltk.download('stopwords')\n",
        "nltk.download('wordnet')"
      ],
      "execution_count": null,
      "outputs": [
        {
          "output_type": "stream",
          "text": [
            "[nltk_data] Downloading package punkt to /root/nltk_data...\n",
            "[nltk_data]   Unzipping tokenizers/punkt.zip.\n",
            "[nltk_data] Downloading package stopwords to /root/nltk_data...\n",
            "[nltk_data]   Unzipping corpora/stopwords.zip.\n",
            "[nltk_data] Downloading package wordnet to /root/nltk_data...\n",
            "[nltk_data]   Unzipping corpora/wordnet.zip.\n"
          ],
          "name": "stdout"
        },
        {
          "output_type": "execute_result",
          "data": {
            "text/plain": [
              "True"
            ]
          },
          "metadata": {
            "tags": []
          },
          "execution_count": 11
        }
      ]
    },
    {
      "cell_type": "code",
      "metadata": {
        "id": "WdWU8OY0hy5Q",
        "outputId": "8fa5dd90-c9e2-4e12-d40e-612300e303fd",
        "colab": {
          "base_uri": "https://localhost:8080/"
        }
      },
      "source": [
        "train_sentence=data_preprocessing(train)\n",
        "test_sentence=data_preprocessing(test)\n"
      ],
      "execution_count": null,
      "outputs": [
        {
          "output_type": "stream",
          "text": [
            "  0%|          | 1/109170 [00:01<46:34:32,  1.54s/it]/usr/local/lib/python3.6/dist-packages/bs4/__init__.py:273: UserWarning: \"b'.'\" looks like a filename, not markup. You should probably open this file and pass the filehandle into Beautiful Soup.\n",
            "  ' Beautiful Soup.' % markup)\n",
            " 66%|██████▋   | 72458/109170 [00:46<00:22, 1616.69it/s]/usr/local/lib/python3.6/dist-packages/bs4/__init__.py:273: UserWarning: \"b'drive'\" looks like a filename, not markup. You should probably open this file and pass the filehandle into Beautiful Soup.\n",
            "  ' Beautiful Soup.' % markup)\n",
            "100%|██████████| 109170/109170 [01:09<00:00, 1564.55it/s]\n",
            "100%|██████████| 46890/46890 [00:29<00:00, 1576.85it/s]\n"
          ],
          "name": "stderr"
        }
      ]
    },
    {
      "cell_type": "code",
      "metadata": {
        "id": "c82pulwjjRuy"
      },
      "source": [
        "# split train_validation ,tokenize\n",
        "\n",
        "from keras.utils import to_categorical\n",
        "from sklearn.model_selection import train_test_split\n",
        "from keras.preprocessing.text import Tokenizer\n",
        "from keras.preprocessing import sequence"
      ],
      "execution_count": null,
      "outputs": []
    },
    {
      "cell_type": "code",
      "metadata": {
        "id": "jLeS1uLdj3Yb",
        "outputId": "a802f27c-e5b0-42be-8306-97a85f4edd82",
        "colab": {
          "base_uri": "https://localhost:8080/"
        }
      },
      "source": [
        "target=train.Sentiment.values\n",
        "y_target=to_categorical(target)#one hot encode\n",
        "num_of_class=y_target.shape[1]\n",
        "print(target[2],y_target[2],num_of_class)"
      ],
      "execution_count": null,
      "outputs": [
        {
          "output_type": "stream",
          "text": [
            "2 [0. 0. 1. 0. 0.] 5\n"
          ],
          "name": "stdout"
        }
      ]
    },
    {
      "cell_type": "code",
      "metadata": {
        "id": "8snw3T4Hklvl"
      },
      "source": [
        "Xtrain,Xval,ytrain,yval=train_test_split(train_sentence,y_target,test_size=0.2,stratify=y_target)\n",
        "Xtrain2,Xval2,ytrain2,yval2=train_test_split(train_sentence,y_target,test_size=0.3,stratify=y_target)"
      ],
      "execution_count": null,
      "outputs": []
    },
    {
      "cell_type": "code",
      "metadata": {
        "id": "pFUEHOpZm8Vv",
        "outputId": "62e7ad6b-bed5-4ba3-a715-d774898df588",
        "colab": {
          "base_uri": "https://localhost:8080/"
        }
      },
      "source": [
        "unique_words=set()\n",
        "\n",
        "lenM=0\n",
        "for sent in tqdm(Xtrain):\n",
        "  unique_words.update(sent)\n",
        "  if lenM<len(sent):\n",
        "    lenM=len(sent)\n",
        "len(list(unique_words)) ,lenM"
      ],
      "execution_count": null,
      "outputs": [
        {
          "output_type": "stream",
          "text": [
            "100%|██████████| 87336/87336 [00:00<00:00, 640463.49it/s]\n"
          ],
          "name": "stderr"
        },
        {
          "output_type": "execute_result",
          "data": {
            "text/plain": [
              "(13571, 28)"
            ]
          },
          "metadata": {
            "tags": []
          },
          "execution_count": 16
        }
      ]
    },
    {
      "cell_type": "code",
      "metadata": {
        "id": "eeiuzBIRn6ur",
        "outputId": "e603e69c-b498-407c-d06e-0ccd5b0a9e66",
        "colab": {
          "base_uri": "https://localhost:8080/"
        }
      },
      "source": [
        "# tokenizing and padding\n",
        "\n",
        "tokenizer=Tokenizer(num_words=len(list(unique_words)))\n",
        "tokenizer.fit_on_texts(list(Xtrain))\n",
        "word_index=tokenizer.word_index\n",
        "\n",
        "Xtrain=tokenizer.texts_to_sequences(Xtrain)\n",
        "Xval=tokenizer.texts_to_sequences(Xval)\n",
        "Xtest=tokenizer.texts_to_sequences(test_sentence)\n",
        "\n",
        "Xtrain=sequence.pad_sequences(Xtrain,maxlen=lenM)\n",
        "Xval=sequence.pad_sequences(Xval,maxlen=lenM)\n",
        "Xtest=sequence.pad_sequences(Xtest,maxlen=lenM)\n",
        "Xtrain.shape,Xval.shape,Xtest.shape\n"
      ],
      "execution_count": null,
      "outputs": [
        {
          "output_type": "execute_result",
          "data": {
            "text/plain": [
              "((87336, 28), (21834, 28), (46890, 28))"
            ]
          },
          "metadata": {
            "tags": []
          },
          "execution_count": 17
        }
      ]
    },
    {
      "cell_type": "code",
      "metadata": {
        "id": "OlbCXqNlKmbu"
      },
      "source": [
        "# defining the model along with using early stopping\n",
        "\n",
        "from keras.callbacks import EarlyStopping\n",
        "from keras.models import Sequential\n",
        "from keras.layers import LSTM,Dropout,Dense,Embedding\n",
        "from keras.optimizers import Adam\n"
      ],
      "execution_count": null,
      "outputs": []
    },
    {
      "cell_type": "code",
      "metadata": {
        "id": "Cx7RKLhWpOqS",
        "outputId": "ba589ac9-efa5-457c-95f3-b8224fe376f0",
        "colab": {
          "base_uri": "https://localhost:8080/",
          "height": 80
        }
      },
      "source": [
        "!unzip \"/content/drive/My Drive/PRETRAINED EMBEDDING/crawl-300d-2M.vec.zip\" -d \"/content/drive/My Drive/PRETRAINED EMBEDDING\""
      ],
      "execution_count": null,
      "outputs": [
        {
          "output_type": "stream",
          "text": [
            "Archive:  /content/drive/My Drive/PRETRAINED EMBEDDING/crawl-300d-2M.vec.zip\n",
            "replace /content/drive/My Drive/PRETRAINED EMBEDDING/crawl-300d-2M.vec? [y]es, [n]o, [A]ll, [N]one, [r]ename: "
          ],
          "name": "stdout"
        }
      ]
    },
    {
      "cell_type": "code",
      "metadata": {
        "id": "X968KrjqrMmz"
      },
      "source": [
        "embd_path='/content/drive/My Drive/PRETRAINED EMBEDDING/crawl-300d-2M.vec'\n",
        "embd_size=300\n",
        "max_feature=30000\n",
        "def get_coef(word,arr): return word,np.asarray(arr,dtype='float32')\n",
        "emb_index=dict(get_coef(o.split(\" \")[0],o.split(' ')[1:]) for o in open(embd_path))\n",
        "\n"
      ],
      "execution_count": null,
      "outputs": []
    },
    {
      "cell_type": "code",
      "metadata": {
        "id": "Jmuyy54ZvNBq"
      },
      "source": [
        "len(word_index)\n",
        "\n",
        "embd_matrix=np.zeros((len(word_index)+1,embd_size))\n",
        "for word, i in word_index.items():\n",
        "  if i>=max_feature:continue\n",
        "  embd_vector=emb_index.get(word)\n",
        "  if embd_vector is not None:embd_matrix[i]=embd_vector"
      ],
      "execution_count": null,
      "outputs": []
    },
    {
      "cell_type": "code",
      "metadata": {
        "id": "tbDE7n4pLQ-r"
      },
      "source": [
        "early_stop=EarlyStopping(min_delta=0.001,mode='max',patience=2,monitor='val_accuracy')\n",
        "callaback=[early_stop]"
      ],
      "execution_count": null,
      "outputs": []
    },
    {
      "cell_type": "code",
      "metadata": {
        "id": "lMlZBwE6L1Ne",
        "outputId": "6c1b33ca-aa35-4c9c-fd7d-4f4073faa4fb",
        "colab": {
          "base_uri": "https://localhost:8080/"
        }
      },
      "source": [
        "#definig the model\n",
        "\n",
        "model=Sequential()\n",
        "model.add(Embedding(len(list(unique_words))+1,300,weights=[embd_matrix],trainable=False,input_length=lenM))\n",
        "model.add(LSTM(128,dropout=0.5,recurrent_dropout=0.5,return_sequences=True))\n",
        "model.add(LSTM(64,dropout=0.5,recurrent_dropout=0.5,return_sequences=False))\n",
        "model.add(Dense(100,activation='relu'))\n",
        "model.add(Dropout(0.5))\n",
        "model.add(Dense(num_of_class,activation='softmax'))\n",
        "\n",
        "model.compile(loss='categorical_crossentropy',optimizer=Adam(lr=0.005),metrics=['accuracy'])\n",
        "model.summary()\n"
      ],
      "execution_count": null,
      "outputs": [
        {
          "output_type": "stream",
          "text": [
            "Model: \"sequential\"\n",
            "_________________________________________________________________\n",
            "Layer (type)                 Output Shape              Param #   \n",
            "=================================================================\n",
            "embedding_5 (Embedding)      (None, 28, 300)           4071600   \n",
            "_________________________________________________________________\n",
            "lstm_2 (LSTM)                (None, 28, 128)           219648    \n",
            "_________________________________________________________________\n",
            "lstm_3 (LSTM)                (None, 64)                49408     \n",
            "_________________________________________________________________\n",
            "dense_9 (Dense)              (None, 100)               6500      \n",
            "_________________________________________________________________\n",
            "dropout_6 (Dropout)          (None, 100)               0         \n",
            "_________________________________________________________________\n",
            "dense_10 (Dense)             (None, 5)                 505       \n",
            "=================================================================\n",
            "Total params: 4,347,661\n",
            "Trainable params: 276,061\n",
            "Non-trainable params: 4,071,600\n",
            "_________________________________________________________________\n"
          ],
          "name": "stdout"
        }
      ]
    },
    {
      "cell_type": "code",
      "metadata": {
        "id": "-Hi88VrWPIXG",
        "outputId": "065512a5-5a94-44de-807e-32dcef2753c0",
        "colab": {
          "base_uri": "https://localhost:8080/",
          "height": 286
        }
      },
      "source": [
        "#training with early stoping\n",
        "hist=model.fit(Xtrain,ytrain,validation_data=(Xval,yval),epochs=10,batch_size=256,verbose=1,callbacks=callaback)"
      ],
      "execution_count": null,
      "outputs": [
        {
          "output_type": "stream",
          "text": [
            "Epoch 1/10\n",
            "342/342 [==============================] - 194s 566ms/step - loss: 0.9953 - accuracy: 0.5928 - val_loss: 0.9013 - val_accuracy: 0.6233\n",
            "Epoch 2/10\n",
            "342/342 [==============================] - 195s 570ms/step - loss: 0.9258 - accuracy: 0.6195 - val_loss: 0.8796 - val_accuracy: 0.6361\n",
            "Epoch 3/10\n",
            "342/342 [==============================] - 194s 568ms/step - loss: 0.9000 - accuracy: 0.6299 - val_loss: 0.8529 - val_accuracy: 0.6486\n",
            "Epoch 4/10\n",
            "342/342 [==============================] - 194s 567ms/step - loss: 0.8837 - accuracy: 0.6357 - val_loss: 0.8424 - val_accuracy: 0.6483\n",
            "Epoch 5/10\n",
            "342/342 [==============================] - 193s 565ms/step - loss: 0.8712 - accuracy: 0.6413 - val_loss: 0.8412 - val_accuracy: 0.6501\n",
            "Epoch 6/10\n",
            "342/342 [==============================] - 193s 563ms/step - loss: 0.8639 - accuracy: 0.6440 - val_loss: 0.8280 - val_accuracy: 0.6561\n",
            "Epoch 7/10\n",
            "342/342 [==============================] - 192s 563ms/step - loss: 0.8526 - accuracy: 0.6485 - val_loss: 0.8289 - val_accuracy: 0.6544\n",
            "Epoch 8/10\n",
            "342/342 [==============================] - 194s 567ms/step - loss: 0.8480 - accuracy: 0.6508 - val_loss: 0.8297 - val_accuracy: 0.6547\n"
          ],
          "name": "stdout"
        }
      ]
    },
    {
      "cell_type": "code",
      "metadata": {
        "id": "7Q-kPTtyCBQI",
        "outputId": "26e9dc87-0806-45d5-a1a1-e266d3a7a462",
        "colab": {
          "base_uri": "https://localhost:8080/",
          "height": 296
        }
      },
      "source": [
        "ep=range(1,9)\n",
        "plt.plot(ep,hist.history['val_accuracy'],'r--')\n",
        "plt.plot(ep,hist.history['accuracy'],'b--')\n",
        "plt.xlabel('Epochs')\n",
        "plt.ylabel('Accuracy')\n",
        "plt.legend(['Validation Accuracy','Training Accuracy'])"
      ],
      "execution_count": null,
      "outputs": [
        {
          "output_type": "execute_result",
          "data": {
            "text/plain": [
              "<matplotlib.legend.Legend at 0x7ff305843898>"
            ]
          },
          "metadata": {
            "tags": []
          },
          "execution_count": 59
        },
        {
          "output_type": "display_data",
          "data": {
            "image/png": "[encoded data removed]",
            "text/plain": [
              "<Figure size 432x288 with 1 Axes>"
            ]
          },
          "metadata": {
            "tags": [],
            "needs_background": "light"
          }
        }
      ]
    },
    {
      "cell_type": "code",
      "metadata": {
        "id": "Pq3PosU8RT07",
        "outputId": "5cd1a1a9-02d1-40d6-880a-6e3fb9f9caa4",
        "colab": {
          "base_uri": "https://localhost:8080/",
          "height": 296
        }
      },
      "source": [
        "plt.plot(ep,hist.history['val_loss'],'y--')\n",
        "plt.plot(ep,hist.history['accuracy'],'g--')\n",
        "plt.xlabel('Epochs')\n",
        "plt.ylabel('Loss')\n",
        "plt.legend(['Validation Loss','Training Loss'])"
      ],
      "execution_count": null,
      "outputs": [
        {
          "output_type": "execute_result",
          "data": {
            "text/plain": [
              "<matplotlib.legend.Legend at 0x7ff305834b70>"
            ]
          },
          "metadata": {
            "tags": []
          },
          "execution_count": 60
        },
        {
          "output_type": "display_data",
          "data": {
            "image/png": "[encoded data removed]",
            "text/plain": [
              "<Figure size 432x288 with 1 Axes>"
            ]
          },
          "metadata": {
            "tags": [],
            "needs_background": "light"
          }
        }
      ]
    },
    {
      "cell_type": "code",
      "metadata": {
        "id": "ZULT06H2EacZ"
      },
      "source": [
        "from keras.preprocessing.text import Tokenizer\n",
        "from keras.preprocessing.sequence import pad_sequences\n",
        "from keras.layers import Dense,Input,LSTM,Embedding,BatchNormalization,Conv1D,Dropout,GRU,Activation,Concatenate\n",
        "from keras.layers import Flatten,Bidirectional,GlobalAveragePooling1D,GlobalMaxPooling1D,MaxPool1D,SpatialDropout1D\n",
        "\n",
        "from keras.models import Model,load_model\n",
        "from keras import initializers ,regularizers,optimizers,callbacks\n",
        "from keras import backend as K\n",
        "from keras.optimizers import Adam\n",
        "from keras.callbacks import EarlyStopping,ModelCheckpoint\n",
        "import tensorflow as tf\n",
        "from tensorflow.compat.v1.keras.layers import CuDNNGRU\n",
        "from tensorflow.compat.v1.keras.layers import CuDNNLSTM"
      ],
      "execution_count": null,
      "outputs": []
    },
    {
      "cell_type": "code",
      "metadata": {
        "id": "dVbPTqOVrw8h"
      },
      "source": [
        "#definig model 2\n",
        "def model_1(lr=0.0,lr_d=0.0,units=0,spatial_dr=0.0,kernel_size1=3,kernel_size2=2,dense_units=128,dr=0.1,conv_size=32):\n",
        "  saving_path='/content/best_model_1.hdf5'\n",
        "  file_path='/content/best_model_1.hdf5'\n",
        "  #defining callbacks\n",
        "  check_point=ModelCheckpoint(saving_path,monitor='val_loss',verbose=1,save_best_only=True,patience=3,mode=\"min\")\n",
        "  early_stop=EarlyStopping(monitor='val_loss',mode=\"min\")\n",
        "\n",
        "  #definig model structure\n",
        "  inp = Input(shape = (lenM,))\n",
        "  x=Embedding(len(list(unique_words))+1,300,weights=[embd_matrix],trainable=False,input_length=lenM)(inp)\n",
        "  x1 = SpatialDropout1D(spatial_dr)(x)\n",
        "\n",
        "  x_gru = Bidirectional(GRU(units, return_sequences = True))(x1)\n",
        "  x1 = Conv1D(conv_size, kernel_size=kernel_size1, padding='valid', kernel_initializer='he_uniform')(x_gru)\n",
        "  avg_pool1_gru = GlobalAveragePooling1D()(x1)\n",
        "  max_pool1_gru = GlobalMaxPooling1D()(x1)\n",
        "    \n",
        "  x3 = Conv1D(conv_size, kernel_size=kernel_size2, padding='valid', kernel_initializer='he_uniform')(x_gru)\n",
        "  avg_pool3_gru = GlobalAveragePooling1D()(x3)\n",
        "  max_pool3_gru = GlobalMaxPooling1D()(x3)\n",
        "    \n",
        "  x_lstm = Bidirectional(LSTM(units, return_sequences = True))(x1)\n",
        "  x1 = Conv1D(conv_size, kernel_size=kernel_size1, padding='valid', kernel_initializer='he_uniform')(x_lstm)\n",
        "  avg_pool1_lstm = GlobalAveragePooling1D()(x1)\n",
        "  max_pool1_lstm = GlobalMaxPooling1D()(x1)\n",
        "    \n",
        "  x3 = Conv1D(conv_size, kernel_size=kernel_size2, padding='valid', kernel_initializer='he_uniform')(x_lstm)\n",
        "  avg_pool3_lstm = GlobalAveragePooling1D()(x3)\n",
        "  max_pool3_lstm = GlobalMaxPooling1D()(x3)\n",
        "    \n",
        "    \n",
        "  x = Concatenate()([avg_pool1_gru, max_pool1_gru, avg_pool3_gru, max_pool3_gru,avg_pool1_lstm, max_pool1_lstm, avg_pool3_lstm, max_pool3_lstm])\n",
        "  x= BatchNormalization()(x)\n",
        "  x = Dropout(dr)(Dense(dense_units, activation='relu') (x))\n",
        "  x = BatchNormalization()(x)\n",
        "  x = Dropout(dr)(Dense(int(dense_units / 2), activation='relu') (x))\n",
        "  x = Dense(5, activation = \"softmax\")(x)\n",
        "  model = Model(inputs = inp, outputs = x)\n",
        "  model.compile(loss = \"categorical_crossentropy\", optimizer = Adam(lr = lr, decay = lr_d), metrics = [\"accuracy\"])\n",
        "  history = model.fit(Xtrain, ytrain, batch_size = 128, epochs = 20,validation_data=(Xval,yval), verbose = 1, callbacks = [check_point, early_stop])\n",
        " \n",
        "\n",
        "  model = load_model(file_path)\n",
        "  return model\n",
        "\n",
        "\n",
        "\n",
        "\n",
        "\n"
      ],
      "execution_count": null,
      "outputs": []
    },
    {
      "cell_type": "code",
      "metadata": {
        "id": "9EgEV37hqsyC",
        "outputId": "ea2b23ce-b56a-430f-db93-da4320cc6fd5",
        "colab": {
          "base_uri": "https://localhost:8080/",
          "height": 303
        }
      },
      "source": [
        "model1=load_model(filepath='/content/best_model_1.hdf5')"
      ],
      "execution_count": null,
      "outputs": [
        {
          "output_type": "error",
          "ename": "OSError",
          "evalue": "ignored",
          "traceback": [
            "\u001b[0;31m---------------------------------------------------------------------------\u001b[0m",
            "\u001b[0;31mOSError\u001b[0m                                   Traceback (most recent call last)",
            "\u001b[0;32m<ipython-input-45-77a1a87c8201>\u001b[0m in \u001b[0;36m<module>\u001b[0;34m()\u001b[0m\n\u001b[0;32m----> 1\u001b[0;31m \u001b[0mmodel1\u001b[0m\u001b[0;34m=\u001b[0m\u001b[0mload_model\u001b[0m\u001b[0;34m(\u001b[0m\u001b[0mfilepath\u001b[0m\u001b[0;34m=\u001b[0m\u001b[0;34m'/content/best_model_1.hdf5'\u001b[0m\u001b[0;34m)\u001b[0m\u001b[0;34m\u001b[0m\u001b[0;34m\u001b[0m\u001b[0m\n\u001b[0m",
            "\u001b[0;32m/usr/local/lib/python3.6/dist-packages/tensorflow/python/keras/saving/save.py\u001b[0m in \u001b[0;36mload_model\u001b[0;34m(filepath, custom_objects, compile, options)\u001b[0m\n\u001b[1;32m    184\u001b[0m     \u001b[0mfilepath\u001b[0m \u001b[0;34m=\u001b[0m \u001b[0mpath_to_string\u001b[0m\u001b[0;34m(\u001b[0m\u001b[0mfilepath\u001b[0m\u001b[0;34m)\u001b[0m\u001b[0;34m\u001b[0m\u001b[0;34m\u001b[0m\u001b[0m\n\u001b[1;32m    185\u001b[0m     \u001b[0;32mif\u001b[0m \u001b[0misinstance\u001b[0m\u001b[0;34m(\u001b[0m\u001b[0mfilepath\u001b[0m\u001b[0;34m,\u001b[0m \u001b[0msix\u001b[0m\u001b[0;34m.\u001b[0m\u001b[0mstring_types\u001b[0m\u001b[0;34m)\u001b[0m\u001b[0;34m:\u001b[0m\u001b[0;34m\u001b[0m\u001b[0;34m\u001b[0m\u001b[0m\n\u001b[0;32m--> 186\u001b[0;31m       \u001b[0mloader_impl\u001b[0m\u001b[0;34m.\u001b[0m\u001b[0mparse_saved_model\u001b[0m\u001b[0;34m(\u001b[0m\u001b[0mfilepath\u001b[0m\u001b[0;34m)\u001b[0m\u001b[0;34m\u001b[0m\u001b[0;34m\u001b[0m\u001b[0m\n\u001b[0m\u001b[1;32m    187\u001b[0m       \u001b[0;32mreturn\u001b[0m \u001b[0msaved_model_load\u001b[0m\u001b[0;34m.\u001b[0m\u001b[0mload\u001b[0m\u001b[0;34m(\u001b[0m\u001b[0mfilepath\u001b[0m\u001b[0;34m,\u001b[0m \u001b[0mcompile\u001b[0m\u001b[0;34m,\u001b[0m \u001b[0moptions\u001b[0m\u001b[0;34m)\u001b[0m\u001b[0;34m\u001b[0m\u001b[0;34m\u001b[0m\u001b[0m\n\u001b[1;32m    188\u001b[0m \u001b[0;34m\u001b[0m\u001b[0m\n",
            "\u001b[0;32m/usr/local/lib/python3.6/dist-packages/tensorflow/python/saved_model/loader_impl.py\u001b[0m in \u001b[0;36mparse_saved_model\u001b[0;34m(export_dir)\u001b[0m\n\u001b[1;32m    111\u001b[0m                   (export_dir,\n\u001b[1;32m    112\u001b[0m                    \u001b[0mconstants\u001b[0m\u001b[0;34m.\u001b[0m\u001b[0mSAVED_MODEL_FILENAME_PBTXT\u001b[0m\u001b[0;34m,\u001b[0m\u001b[0;34m\u001b[0m\u001b[0;34m\u001b[0m\u001b[0m\n\u001b[0;32m--> 113\u001b[0;31m                    constants.SAVED_MODEL_FILENAME_PB))\n\u001b[0m\u001b[1;32m    114\u001b[0m \u001b[0;34m\u001b[0m\u001b[0m\n\u001b[1;32m    115\u001b[0m \u001b[0;34m\u001b[0m\u001b[0m\n",
            "\u001b[0;31mOSError\u001b[0m: SavedModel file does not exist at: /content/best_model_1.hdf5/{saved_model.pbtxt|saved_model.pb}"
          ]
        }
      ]
    },
    {
      "cell_type": "code",
      "metadata": {
        "id": "-sAmjLA7F8aU",
        "outputId": "9656ab7f-ba8e-461d-c10d-af08900b9357",
        "colab": {
          "base_uri": "https://localhost:8080/"
        }
      },
      "source": [
        "model1 =model_1(lr = 1e-3, lr_d = 1e-10, units = 64, spatial_dr = 0.3, kernel_size1=3, kernel_size2=2, dense_units=32, dr=0.1, conv_size=32)"
      ],
      "execution_count": null,
      "outputs": [
        {
          "output_type": "stream",
          "text": [
            "Epoch 1/20\n",
            "683/683 [==============================] - ETA: 0s - loss: 1.0761 - accuracy: 0.5627\n",
            "Epoch 00001: val_loss improved from inf to 0.90475, saving model to /content/best_model_1.hdf5\n",
            "683/683 [==============================] - 139s 204ms/step - loss: 1.0761 - accuracy: 0.5627 - val_loss: 0.9047 - val_accuracy: 0.6266\n",
            "Epoch 2/20\n",
            "683/683 [==============================] - ETA: 0s - loss: 0.9510 - accuracy: 0.6097\n",
            "Epoch 00002: val_loss improved from 0.90475 to 0.90066, saving model to /content/best_model_1.hdf5\n",
            "683/683 [==============================] - 137s 201ms/step - loss: 0.9510 - accuracy: 0.6097 - val_loss: 0.9007 - val_accuracy: 0.6265\n",
            "Epoch 3/20\n",
            "683/683 [==============================] - ETA: 0s - loss: 0.9239 - accuracy: 0.6209\n",
            "Epoch 00003: val_loss improved from 0.90066 to 0.87019, saving model to /content/best_model_1.hdf5\n",
            "683/683 [==============================] - 137s 200ms/step - loss: 0.9239 - accuracy: 0.6209 - val_loss: 0.8702 - val_accuracy: 0.6366\n",
            "Epoch 4/20\n",
            "683/683 [==============================] - ETA: 0s - loss: 0.9027 - accuracy: 0.6307\n",
            "Epoch 00004: val_loss did not improve from 0.87019\n",
            "683/683 [==============================] - 137s 201ms/step - loss: 0.9027 - accuracy: 0.6307 - val_loss: 0.8727 - val_accuracy: 0.6382\n"
          ],
          "name": "stdout"
        }
      ]
    },
    {
      "cell_type": "code",
      "metadata": {
        "id": "F0M3wefBWVcD"
      },
      "source": [
        "##defining model 3\n",
        "def model_2(lr=0.0,lr_d=0.0,units=0,sp_dr=0.0,kernel_1=3,kernel_2=2,dense_units=128,dr=0.1,conv_size=32):\n",
        "  save_to='/content/drive/My Drive/REVIEW CLASSIFIER'\n",
        "  #callbacks\n",
        "  check=ModelCheckpoint(save_to,monitor='val_loss',verbose=1,mode='min',save_best_only=True)\n",
        "  early_stop=EarlyStopping(monitor='val_loss',mode='min',patience=2)\n",
        "  #model structure\n",
        "  inp = Input(shape = (lenM,))\n",
        "  x=Embedding(len(list(unique_words))+1,300,weights=[embd_matrix],trainable=False,input_length=lenM)(inp)\n",
        "  x1 = SpatialDropout1D(sp_dr)(x)\n",
        "  xGRU=Bidirectional(GRU(units,return_sequences=True))(x1)\n",
        "  xLSTM=Bidirectional(LSTM(units,return_sequences=True))(x1)\n",
        "  \n",
        "  xCONV1=Conv1D(conv_size,kernel_size=kernel_1,padding='valid',kernel_initializer='he_uniform')\n",
        "  xCONV2=Conv1D(conv_size,kernel_size=kernel_2,padding='valid',kernel_initializer='he_uniform')\n",
        "\n",
        "  GRU1=Conv1D(conv_size,kernel_size=kernel_1,padding='valid',kernel_initializer='he_uniform')(xGRU)\n",
        "  GRU2=Conv1D(conv_size,kernel_size=kernel_2,padding='valid',kernel_initializer='he_uniform')(xGRU)\n",
        "\n",
        "  LSTM1=Conv1D(conv_size,kernel_size=kernel_2,padding='valid',kernel_initializer='he_uniform')(xLSTM)\n",
        "  LSTM2=Conv1D(conv_size,kernel_size=kernel_2,padding='valid',kernel_initializer='he_uniform')(xLSTM)\n",
        "\n",
        "  avg_pool=GlobalAveragePooling1D()\n",
        "  max_pool= GlobalMaxPooling1D()\n",
        "\n",
        "  avg_gru_1=GlobalAveragePooling1D()(GRU1)\n",
        "  max_gru_1=GlobalMaxPooling1D()(GRU1)\n",
        "  avg_gru_2=GlobalAveragePooling1D()(xCONV2)(GRU2)\n",
        "  max_gru_2=GlobalMaxPooling1D()(xCONV2)(GRU2)\n",
        "\n",
        "  avg_lstm_1=GlobalAveragePooling1D()(LSTM1)\n",
        "  max_lstm_1=GlobalMaxPooling1D()(LSTM1)\n",
        "  avg_lstm_2=GlobalAveragePooling1D()(LSTM2)\n",
        "  max_lstm_2=GlobalMaxPooling1D()(LSTM2)\n",
        "\n",
        "  #concatinating lstms and grus\n",
        "\n",
        "  x = Concatenate()([avg_gru_1,avg_gru_2,avg_lstm_1,avg_lstm_2,max_gru_1,max_gru_2,max_lstm_1,max_lstm_2])\n",
        "  x= BatchNormalization()(x)\n",
        "  x= Dropout(dr)(Dense(dense_units,activation='relu')(x))\n",
        "  x= BatchNormalization()(x)\n",
        "  x = Dropout(dr)(Dense(int(dense_units/2),activation='relu')(x))\n",
        "  x=Dense(5,activation='sigmoid')(x)\n",
        "  model=Model(inputs=inp,outputs=x)\n",
        "  model.compile(loss='categorical_crossentropy',optimizer=Adam(lr=lr,decay=lr_d),metrics=['accuracy'])\n",
        "  history=model.fit(Xtrain, ytrain, batch_size = 128, epochs = 20,validation_data=(Xval,yval), verbose = 1, callbacks = [check, early_stop])\n",
        "  model=load_model(save_to)\n",
        "  return model"
      ],
      "execution_count": null,
      "outputs": []
    },
    {
      "cell_type": "code",
      "metadata": {
        "id": "ntzJNISjc_RE"
      },
      "source": [
        "def build_model2(lr=0.0, lr_d=0.0, units=0, spatial_dr=0.0, kernel_size1=3, kernel_size2=2, dense_units=128, dr=0.1, conv_size=32):\n",
        "    file_path = \"best_model.hdf5\"\n",
        "    check_point = ModelCheckpoint(file_path, monitor = \"val_loss\", verbose = 1,\n",
        "                                  save_best_only = True, mode = \"min\")\n",
        "    early_stop = EarlyStopping(monitor = \"val_loss\", mode = \"min\", patience = 3)\n",
        "    inp = Input(shape = (lenM,))\n",
        "    x=Embedding(len(list(unique_words))+1,300,weights=[embd_matrix],trainable=False,input_length=lenM)(inp)\n",
        "    x1 = SpatialDropout1D(spatial_dr)(x)\n",
        "\n",
        "    x_gru = Bidirectional(GRU(units, return_sequences = True))(x1)\n",
        "    x_lstm = Bidirectional(LSTM(units, return_sequences = True))(x1)\n",
        "    \n",
        "    x_conv1 = Conv1D(conv_size, kernel_size=kernel_size1, padding='valid', kernel_initializer='he_uniform')(x_gru)\n",
        "    avg_pool1_gru = GlobalAveragePooling1D()(x_conv1)\n",
        "    max_pool1_gru = GlobalMaxPooling1D()(x_conv1)\n",
        "    \n",
        "    x_conv2 = Conv1D(conv_size, kernel_size=kernel_size2, padding='valid', kernel_initializer='he_uniform')(x_gru)\n",
        "    avg_pool2_gru = GlobalAveragePooling1D()(x_conv2)\n",
        "    max_pool2_gru = GlobalMaxPooling1D()(x_conv2)\n",
        "    x_conv3 = Conv1D(conv_size, kernel_size=kernel_size1, padding='valid', kernel_initializer='he_uniform')(x_lstm)\n",
        "    avg_pool1_lstm = GlobalAveragePooling1D()(x_conv3)\n",
        "    max_pool1_lstm = GlobalMaxPooling1D()(x_conv3)\n",
        "    \n",
        "    x_conv4 = Conv1D(conv_size, kernel_size=kernel_size2, padding='valid', kernel_initializer='he_uniform')(x_lstm)\n",
        "    avg_pool2_lstm = GlobalAveragePooling1D()(x_conv4)\n",
        "    max_pool2_lstm = GlobalMaxPooling1D()(x_conv4)\n",
        "    \n",
        "    \n",
        "    x = Concatenate()([avg_pool1_gru, max_pool1_gru, avg_pool2_gru, max_pool2_gru,\n",
        "                    avg_pool1_lstm, max_pool1_lstm, avg_pool2_lstm, max_pool2_lstm])\n",
        "    x = BatchNormalization()(x)\n",
        "    x = Dropout(dr)(Dense(dense_units, activation='relu') (x))\n",
        "    x = BatchNormalization()(x)\n",
        "    x = Dropout(dr)(Dense(int(dense_units / 2), activation='relu') (x))\n",
        "    x = Dense(5, activation = \"sigmoid\")(x)\n",
        "    model = Model(inputs = inp, outputs = x)\n",
        "    model.compile(loss = \"binary_crossentropy\", optimizer = Adam(lr = lr, decay = lr_d), metrics = [\"accuracy\"])\n",
        "    history = model.fit(Xtrain, ytrain, batch_size = 128, epochs = 20, validation_split=0.1, \n",
        "                        verbose = 1, callbacks = [check_point, early_stop])\n",
        "    model = load_model(file_path)\n",
        "    return model"
      ],
      "execution_count": null,
      "outputs": []
    },
    {
      "cell_type": "code",
      "metadata": {
        "id": "9BSxzku0dKMs",
        "outputId": "21ee7279-54f4-42ed-9bf8-e4acea543b88",
        "colab": {
          "base_uri": "https://localhost:8080/"
        }
      },
      "source": [
        "model4 = build_model2(lr = 1e-3, lr_d = 0, units = 64, spatial_dr = 0.5, kernel_size1=3, kernel_size2=3, dense_units=64, dr=0.3, conv_size=32)"
      ],
      "execution_count": null,
      "outputs": [
        {
          "output_type": "stream",
          "text": [
            "Epoch 1/20\n",
            "615/615 [==============================] - ETA: 0s - loss: 0.3980 - accuracy: 0.5359\n",
            "Epoch 00001: val_loss improved from inf to 0.31812, saving model to best_model.hdf5\n",
            "615/615 [==============================] - 153s 248ms/step - loss: 0.3980 - accuracy: 0.5359 - val_loss: 0.3181 - val_accuracy: 0.6152\n",
            "Epoch 2/20\n",
            "615/615 [==============================] - ETA: 0s - loss: 0.3425 - accuracy: 0.5894\n",
            "Epoch 00002: val_loss improved from 0.31812 to 0.31275, saving model to best_model.hdf5\n",
            "615/615 [==============================] - 153s 248ms/step - loss: 0.3425 - accuracy: 0.5894 - val_loss: 0.3128 - val_accuracy: 0.6239\n",
            "Epoch 3/20\n",
            "615/615 [==============================] - ETA: 0s - loss: 0.3327 - accuracy: 0.6015\n",
            "Epoch 00003: val_loss improved from 0.31275 to 0.30529, saving model to best_model.hdf5\n",
            "615/615 [==============================] - 152s 248ms/step - loss: 0.3327 - accuracy: 0.6015 - val_loss: 0.3053 - val_accuracy: 0.6344\n",
            "Epoch 4/20\n",
            "615/615 [==============================] - ETA: 0s - loss: 0.3266 - accuracy: 0.6099\n",
            "Epoch 00004: val_loss did not improve from 0.30529\n",
            "615/615 [==============================] - 154s 251ms/step - loss: 0.3266 - accuracy: 0.6099 - val_loss: 0.3093 - val_accuracy: 0.6324\n",
            "Epoch 5/20\n",
            "615/615 [==============================] - ETA: 0s - loss: 0.3216 - accuracy: 0.6155\n",
            "Epoch 00005: val_loss improved from 0.30529 to 0.29967, saving model to best_model.hdf5\n",
            "615/615 [==============================] - 155s 252ms/step - loss: 0.3216 - accuracy: 0.6155 - val_loss: 0.2997 - val_accuracy: 0.6431\n",
            "Epoch 6/20\n",
            "615/615 [==============================] - ETA: 0s - loss: 0.3178 - accuracy: 0.6202\n",
            "Epoch 00006: val_loss did not improve from 0.29967\n",
            "615/615 [==============================] - 152s 247ms/step - loss: 0.3178 - accuracy: 0.6202 - val_loss: 0.3030 - val_accuracy: 0.6399\n",
            "Epoch 7/20\n",
            "615/615 [==============================] - ETA: 0s - loss: 0.3135 - accuracy: 0.6273\n",
            "Epoch 00007: val_loss improved from 0.29967 to 0.29873, saving model to best_model.hdf5\n",
            "615/615 [==============================] - 153s 249ms/step - loss: 0.3135 - accuracy: 0.6273 - val_loss: 0.2987 - val_accuracy: 0.6501\n",
            "Epoch 8/20\n",
            "615/615 [==============================] - ETA: 0s - loss: 0.3096 - accuracy: 0.6312\n",
            "Epoch 00008: val_loss improved from 0.29873 to 0.29216, saving model to best_model.hdf5\n",
            "615/615 [==============================] - 154s 251ms/step - loss: 0.3096 - accuracy: 0.6312 - val_loss: 0.2922 - val_accuracy: 0.6563\n",
            "Epoch 9/20\n",
            "615/615 [==============================] - ETA: 0s - loss: 0.3066 - accuracy: 0.6384\n",
            "Epoch 00009: val_loss improved from 0.29216 to 0.29198, saving model to best_model.hdf5\n",
            "615/615 [==============================] - 153s 250ms/step - loss: 0.3066 - accuracy: 0.6384 - val_loss: 0.2920 - val_accuracy: 0.6523\n",
            "Epoch 10/20\n",
            "615/615 [==============================] - ETA: 0s - loss: 0.3034 - accuracy: 0.6419\n",
            "Epoch 00010: val_loss improved from 0.29198 to 0.28981, saving model to best_model.hdf5\n",
            "615/615 [==============================] - 154s 250ms/step - loss: 0.3034 - accuracy: 0.6419 - val_loss: 0.2898 - val_accuracy: 0.6564\n",
            "Epoch 11/20\n",
            "615/615 [==============================] - ETA: 0s - loss: 0.3018 - accuracy: 0.6456\n",
            "Epoch 00011: val_loss did not improve from 0.28981\n",
            "615/615 [==============================] - 154s 250ms/step - loss: 0.3018 - accuracy: 0.6456 - val_loss: 0.2915 - val_accuracy: 0.6611\n",
            "Epoch 12/20\n",
            "615/615 [==============================] - ETA: 0s - loss: 0.2974 - accuracy: 0.6511\n",
            "Epoch 00012: val_loss improved from 0.28981 to 0.28674, saving model to best_model.hdf5\n",
            "615/615 [==============================] - 155s 253ms/step - loss: 0.2974 - accuracy: 0.6511 - val_loss: 0.2867 - val_accuracy: 0.6619\n",
            "Epoch 13/20\n",
            "615/615 [==============================] - ETA: 0s - loss: 0.2958 - accuracy: 0.6527\n",
            "Epoch 00013: val_loss improved from 0.28674 to 0.28624, saving model to best_model.hdf5\n",
            "615/615 [==============================] - 154s 250ms/step - loss: 0.2958 - accuracy: 0.6527 - val_loss: 0.2862 - val_accuracy: 0.6674\n",
            "Epoch 14/20\n",
            "615/615 [==============================] - ETA: 0s - loss: 0.2933 - accuracy: 0.6555\n",
            "Epoch 00014: val_loss did not improve from 0.28624\n",
            "615/615 [==============================] - 154s 250ms/step - loss: 0.2933 - accuracy: 0.6555 - val_loss: 0.2863 - val_accuracy: 0.6619\n",
            "Epoch 15/20\n",
            "615/615 [==============================] - ETA: 0s - loss: 0.2907 - accuracy: 0.6597\n",
            "Epoch 00015: val_loss improved from 0.28624 to 0.28389, saving model to best_model.hdf5\n",
            "615/615 [==============================] - 155s 251ms/step - loss: 0.2907 - accuracy: 0.6597 - val_loss: 0.2839 - val_accuracy: 0.6716\n",
            "Epoch 16/20\n",
            "615/615 [==============================] - ETA: 0s - loss: 0.2883 - accuracy: 0.6634\n",
            "Epoch 00016: val_loss did not improve from 0.28389\n",
            "615/615 [==============================] - 154s 250ms/step - loss: 0.2883 - accuracy: 0.6634 - val_loss: 0.2852 - val_accuracy: 0.6688\n",
            "Epoch 17/20\n",
            "615/615 [==============================] - ETA: 0s - loss: 0.2874 - accuracy: 0.6657\n",
            "Epoch 00017: val_loss did not improve from 0.28389\n",
            "615/615 [==============================] - 154s 250ms/step - loss: 0.2874 - accuracy: 0.6657 - val_loss: 0.2847 - val_accuracy: 0.6658\n",
            "Epoch 18/20\n",
            "615/615 [==============================] - ETA: 0s - loss: 0.2843 - accuracy: 0.6716\n",
            "Epoch 00018: val_loss improved from 0.28389 to 0.28286, saving model to best_model.hdf5\n",
            "615/615 [==============================] - 154s 250ms/step - loss: 0.2843 - accuracy: 0.6716 - val_loss: 0.2829 - val_accuracy: 0.6706\n",
            "Epoch 19/20\n",
            "615/615 [==============================] - ETA: 0s - loss: 0.2823 - accuracy: 0.6739\n",
            "Epoch 00019: val_loss did not improve from 0.28286\n",
            "615/615 [==============================] - 154s 251ms/step - loss: 0.2823 - accuracy: 0.6739 - val_loss: 0.2873 - val_accuracy: 0.6611\n",
            "Epoch 20/20\n",
            "615/615 [==============================] - ETA: 0s - loss: 0.2820 - accuracy: 0.6735\n",
            "Epoch 00020: val_loss did not improve from 0.28286\n",
            "615/615 [==============================] - 153s 248ms/step - loss: 0.2820 - accuracy: 0.6735 - val_loss: 0.2841 - val_accuracy: 0.6685\n"
          ],
          "name": "stdout"
        }
      ]
    },
    {
      "cell_type": "code",
      "metadata": {
        "id": "hLh87ID8gm1k",
        "outputId": "e44376ef-9748-47ee-8393-a520c755ba97",
        "colab": {
          "base_uri": "https://localhost:8080/",
          "height": 303
        }
      },
      "source": [
        "model4 = model_2(lr = 1e-3, lr_d = 0, units = 64, sp_dr = 0.5, kernel_1=3, kernel_2=3, dense_units=64, dr=0.3, conv_size=32)"
      ],
      "execution_count": null,
      "outputs": [
        {
          "output_type": "error",
          "ename": "AttributeError",
          "evalue": "ignored",
          "traceback": [
            "\u001b[0;31m---------------------------------------------------------------------------\u001b[0m",
            "\u001b[0;31mAttributeError\u001b[0m                            Traceback (most recent call last)",
            "\u001b[0;32m<ipython-input-57-ec9792502671>\u001b[0m in \u001b[0;36m<module>\u001b[0;34m()\u001b[0m\n\u001b[0;32m----> 1\u001b[0;31m \u001b[0mmodel4\u001b[0m \u001b[0;34m=\u001b[0m \u001b[0mmodel_2\u001b[0m\u001b[0;34m(\u001b[0m\u001b[0mlr\u001b[0m \u001b[0;34m=\u001b[0m \u001b[0;36m1e-3\u001b[0m\u001b[0;34m,\u001b[0m \u001b[0mlr_d\u001b[0m \u001b[0;34m=\u001b[0m \u001b[0;36m0\u001b[0m\u001b[0;34m,\u001b[0m \u001b[0munits\u001b[0m \u001b[0;34m=\u001b[0m \u001b[0;36m64\u001b[0m\u001b[0;34m,\u001b[0m \u001b[0msp_dr\u001b[0m \u001b[0;34m=\u001b[0m \u001b[0;36m0.5\u001b[0m\u001b[0;34m,\u001b[0m \u001b[0mkernel_1\u001b[0m\u001b[0;34m=\u001b[0m\u001b[0;36m3\u001b[0m\u001b[0;34m,\u001b[0m \u001b[0mkernel_2\u001b[0m\u001b[0;34m=\u001b[0m\u001b[0;36m3\u001b[0m\u001b[0;34m,\u001b[0m \u001b[0mdense_units\u001b[0m\u001b[0;34m=\u001b[0m\u001b[0;36m64\u001b[0m\u001b[0;34m,\u001b[0m \u001b[0mdr\u001b[0m\u001b[0;34m=\u001b[0m\u001b[0;36m0.3\u001b[0m\u001b[0;34m,\u001b[0m \u001b[0mconv_size\u001b[0m\u001b[0;34m=\u001b[0m\u001b[0;36m32\u001b[0m\u001b[0;34m)\u001b[0m\u001b[0;34m\u001b[0m\u001b[0;34m\u001b[0m\u001b[0m\n\u001b[0m",
            "\u001b[0;32m<ipython-input-56-5dbdc8fd8fc1>\u001b[0m in \u001b[0;36mmodel_2\u001b[0;34m(lr, lr_d, units, sp_dr, kernel_1, kernel_2, dense_units, dr, conv_size)\u001b[0m\n\u001b[1;32m     26\u001b[0m   \u001b[0mavg_gru_1\u001b[0m\u001b[0;34m=\u001b[0m\u001b[0mGlobalAveragePooling1D\u001b[0m\u001b[0;34m(\u001b[0m\u001b[0;34m)\u001b[0m\u001b[0;34m(\u001b[0m\u001b[0mGRU1\u001b[0m\u001b[0;34m)\u001b[0m\u001b[0;34m\u001b[0m\u001b[0;34m\u001b[0m\u001b[0m\n\u001b[1;32m     27\u001b[0m   \u001b[0mmax_gru_1\u001b[0m\u001b[0;34m=\u001b[0m\u001b[0mGlobalMaxPooling1D\u001b[0m\u001b[0;34m(\u001b[0m\u001b[0;34m)\u001b[0m\u001b[0;34m(\u001b[0m\u001b[0mGRU1\u001b[0m\u001b[0;34m)\u001b[0m\u001b[0;34m\u001b[0m\u001b[0;34m\u001b[0m\u001b[0m\n\u001b[0;32m---> 28\u001b[0;31m   \u001b[0mavg_gru_2\u001b[0m\u001b[0;34m=\u001b[0m\u001b[0mGlobalAveragePooling1D\u001b[0m\u001b[0;34m(\u001b[0m\u001b[0;34m)\u001b[0m\u001b[0;34m(\u001b[0m\u001b[0mxCONV2\u001b[0m\u001b[0;34m)\u001b[0m\u001b[0;34m(\u001b[0m\u001b[0mGRU2\u001b[0m\u001b[0;34m)\u001b[0m\u001b[0;34m\u001b[0m\u001b[0;34m\u001b[0m\u001b[0m\n\u001b[0m\u001b[1;32m     29\u001b[0m   \u001b[0mmax_gru_2\u001b[0m\u001b[0;34m=\u001b[0m\u001b[0mGlobalMaxPooling1D\u001b[0m\u001b[0;34m(\u001b[0m\u001b[0;34m)\u001b[0m\u001b[0;34m(\u001b[0m\u001b[0mxCONV2\u001b[0m\u001b[0;34m)\u001b[0m\u001b[0;34m(\u001b[0m\u001b[0mGRU2\u001b[0m\u001b[0;34m)\u001b[0m\u001b[0;34m\u001b[0m\u001b[0;34m\u001b[0m\u001b[0m\n\u001b[1;32m     30\u001b[0m \u001b[0;34m\u001b[0m\u001b[0m\n",
            "\u001b[0;32m/usr/local/lib/python3.6/dist-packages/tensorflow/python/keras/engine/base_layer.py\u001b[0m in \u001b[0;36m__call__\u001b[0;34m(self, *args, **kwargs)\u001b[0m\n\u001b[1;32m    980\u001b[0m       \u001b[0;32mwith\u001b[0m \u001b[0mops\u001b[0m\u001b[0;34m.\u001b[0m\u001b[0mname_scope_v2\u001b[0m\u001b[0;34m(\u001b[0m\u001b[0mname_scope\u001b[0m\u001b[0;34m)\u001b[0m\u001b[0;34m:\u001b[0m\u001b[0;34m\u001b[0m\u001b[0;34m\u001b[0m\u001b[0m\n\u001b[1;32m    981\u001b[0m         \u001b[0;32mif\u001b[0m \u001b[0;32mnot\u001b[0m \u001b[0mself\u001b[0m\u001b[0;34m.\u001b[0m\u001b[0mbuilt\u001b[0m\u001b[0;34m:\u001b[0m\u001b[0;34m\u001b[0m\u001b[0;34m\u001b[0m\u001b[0m\n\u001b[0;32m--> 982\u001b[0;31m           \u001b[0mself\u001b[0m\u001b[0;34m.\u001b[0m\u001b[0m_maybe_build\u001b[0m\u001b[0;34m(\u001b[0m\u001b[0minputs\u001b[0m\u001b[0;34m)\u001b[0m\u001b[0;34m\u001b[0m\u001b[0;34m\u001b[0m\u001b[0m\n\u001b[0m\u001b[1;32m    983\u001b[0m \u001b[0;34m\u001b[0m\u001b[0m\n\u001b[1;32m    984\u001b[0m         \u001b[0;32mwith\u001b[0m \u001b[0mops\u001b[0m\u001b[0;34m.\u001b[0m\u001b[0menable_auto_cast_variables\u001b[0m\u001b[0;34m(\u001b[0m\u001b[0mself\u001b[0m\u001b[0;34m.\u001b[0m\u001b[0m_compute_dtype_object\u001b[0m\u001b[0;34m)\u001b[0m\u001b[0;34m:\u001b[0m\u001b[0;34m\u001b[0m\u001b[0;34m\u001b[0m\u001b[0m\n",
            "\u001b[0;32m/usr/local/lib/python3.6/dist-packages/tensorflow/python/keras/engine/base_layer.py\u001b[0m in \u001b[0;36m_maybe_build\u001b[0;34m(self, inputs)\u001b[0m\n\u001b[1;32m   2616\u001b[0m     \u001b[0;32mif\u001b[0m \u001b[0;32mnot\u001b[0m \u001b[0mself\u001b[0m\u001b[0;34m.\u001b[0m\u001b[0mbuilt\u001b[0m\u001b[0;34m:\u001b[0m\u001b[0;34m\u001b[0m\u001b[0;34m\u001b[0m\u001b[0m\n\u001b[1;32m   2617\u001b[0m       input_spec.assert_input_compatibility(\n\u001b[0;32m-> 2618\u001b[0;31m           self.input_spec, inputs, self.name)\n\u001b[0m\u001b[1;32m   2619\u001b[0m       \u001b[0minput_list\u001b[0m \u001b[0;34m=\u001b[0m \u001b[0mnest\u001b[0m\u001b[0;34m.\u001b[0m\u001b[0mflatten\u001b[0m\u001b[0;34m(\u001b[0m\u001b[0minputs\u001b[0m\u001b[0;34m)\u001b[0m\u001b[0;34m\u001b[0m\u001b[0;34m\u001b[0m\u001b[0m\n\u001b[1;32m   2620\u001b[0m       \u001b[0;32mif\u001b[0m \u001b[0minput_list\u001b[0m \u001b[0;32mand\u001b[0m \u001b[0mself\u001b[0m\u001b[0;34m.\u001b[0m\u001b[0m_dtype_policy\u001b[0m\u001b[0;34m.\u001b[0m\u001b[0mcompute_dtype\u001b[0m \u001b[0;32mis\u001b[0m \u001b[0;32mNone\u001b[0m\u001b[0;34m:\u001b[0m\u001b[0;34m\u001b[0m\u001b[0;34m\u001b[0m\u001b[0m\n",
            "\u001b[0;32m/usr/local/lib/python3.6/dist-packages/tensorflow/python/keras/engine/input_spec.py\u001b[0m in \u001b[0;36massert_input_compatibility\u001b[0;34m(input_spec, inputs, layer_name)\u001b[0m\n\u001b[1;32m    164\u001b[0m         \u001b[0mspec\u001b[0m\u001b[0;34m.\u001b[0m\u001b[0mmin_ndim\u001b[0m \u001b[0;32mis\u001b[0m \u001b[0;32mnot\u001b[0m \u001b[0;32mNone\u001b[0m \u001b[0;32mor\u001b[0m\u001b[0;34m\u001b[0m\u001b[0;34m\u001b[0m\u001b[0m\n\u001b[1;32m    165\u001b[0m         spec.max_ndim is not None):\n\u001b[0;32m--> 166\u001b[0;31m       \u001b[0;32mif\u001b[0m \u001b[0mx\u001b[0m\u001b[0;34m.\u001b[0m\u001b[0mshape\u001b[0m\u001b[0;34m.\u001b[0m\u001b[0mndims\u001b[0m \u001b[0;32mis\u001b[0m \u001b[0;32mNone\u001b[0m\u001b[0;34m:\u001b[0m\u001b[0;34m\u001b[0m\u001b[0;34m\u001b[0m\u001b[0m\n\u001b[0m\u001b[1;32m    167\u001b[0m         raise ValueError('Input ' + str(input_index) + ' of layer ' +\n\u001b[1;32m    168\u001b[0m                          \u001b[0mlayer_name\u001b[0m \u001b[0;34m+\u001b[0m \u001b[0;34m' is incompatible with the layer: '\u001b[0m\u001b[0;34m\u001b[0m\u001b[0;34m\u001b[0m\u001b[0m\n",
            "\u001b[0;31mAttributeError\u001b[0m: 'Conv1D' object has no attribute 'shape'"
          ]
        }
      ]
    },
    {
      "cell_type": "code",
      "metadata": {
        "id": "2sKlNR5NNJF6",
        "outputId": "4cd3ee04-bb68-4450-8de0-f207961d5b87",
        "colab": {
          "base_uri": "https://localhost:8080/"
        }
      },
      "source": [
        " \n",
        "PRED_1=model.predict(Xtest,batch_size=1024,verbose=1)\n",
        "PRED_2=model1.predict(Xtest,batch_size=1024,verbose=1)\n",
        "PRED_3=model4.predict(Xtest,batch_size=1024,verbose=1)\n",
        "#\n",
        "#"
      ],
      "execution_count": null,
      "outputs": [
        {
          "output_type": "stream",
          "text": [
            "46/46 [==============================] - 18s 389ms/step\n",
            "46/46 [==============================] - 20s 433ms/step\n",
            "46/46 [==============================] - 29s 620ms/step\n"
          ],
          "name": "stdout"
        }
      ]
    },
    {
      "cell_type": "code",
      "metadata": {
        "id": "Bch9kyQzw0MM",
        "outputId": "2bc00dfb-6a22-4f83-a8d0-cd6d972aa71b",
        "colab": {
          "base_uri": "https://localhost:8080/",
          "height": 343
        }
      },
      "source": [
        "pred=np.add(PRED_1,PRED_3)\n",
        "\n",
        "prediction=np.round(np.argmax(pred,axis=1)).astype(int)\n",
        "sub=pd.read_csv('/content/drive/My Drive/REVIEW CLASSIFIER/sample_submission.csv')\n",
        "sub['Sentiment']=prediction\n",
        "sub.to_csv('/content/drive/My Drive/REVIEW CLASSIFIER/sample_submission.csv', index=False)\n",
        "sub.head(10)"
      ],
      "execution_count": null,
      "outputs": [
        {
          "output_type": "execute_result",
          "data": {
            "text/html": [
              "<div>\n",
              "<style scoped>\n",
              "    .dataframe tbody tr th:only-of-type {\n",
              "        vertical-align: middle;\n",
              "    }\n",
              "\n",
              "    .dataframe tbody tr th {\n",
              "        vertical-align: top;\n",
              "    }\n",
              "\n",
              "    .dataframe thead th {\n",
              "        text-align: right;\n",
              "    }\n",
              "</style>\n",
              "<table border=\"1\" class=\"dataframe\">\n",
              "  <thead>\n",
              "    <tr style=\"text-align: right;\">\n",
              "      <th></th>\n",
              "      <th>Id</th>\n",
              "      <th>Sentiment</th>\n",
              "    </tr>\n",
              "  </thead>\n",
              "  <tbody>\n",
              "    <tr>\n",
              "      <th>0</th>\n",
              "      <td>1</td>\n",
              "      <td>2</td>\n",
              "    </tr>\n",
              "    <tr>\n",
              "      <th>1</th>\n",
              "      <td>4</td>\n",
              "      <td>2</td>\n",
              "    </tr>\n",
              "    <tr>\n",
              "      <th>2</th>\n",
              "      <td>5</td>\n",
              "      <td>2</td>\n",
              "    </tr>\n",
              "    <tr>\n",
              "      <th>3</th>\n",
              "      <td>12</td>\n",
              "      <td>2</td>\n",
              "    </tr>\n",
              "    <tr>\n",
              "      <th>4</th>\n",
              "      <td>14</td>\n",
              "      <td>2</td>\n",
              "    </tr>\n",
              "    <tr>\n",
              "      <th>5</th>\n",
              "      <td>15</td>\n",
              "      <td>3</td>\n",
              "    </tr>\n",
              "    <tr>\n",
              "      <th>6</th>\n",
              "      <td>19</td>\n",
              "      <td>3</td>\n",
              "    </tr>\n",
              "    <tr>\n",
              "      <th>7</th>\n",
              "      <td>20</td>\n",
              "      <td>2</td>\n",
              "    </tr>\n",
              "    <tr>\n",
              "      <th>8</th>\n",
              "      <td>32</td>\n",
              "      <td>1</td>\n",
              "    </tr>\n",
              "    <tr>\n",
              "      <th>9</th>\n",
              "      <td>33</td>\n",
              "      <td>1</td>\n",
              "    </tr>\n",
              "  </tbody>\n",
              "</table>\n",
              "</div>"
            ],
            "text/plain": [
              "   Id  Sentiment\n",
              "0   1          2\n",
              "1   4          2\n",
              "2   5          2\n",
              "3  12          2\n",
              "4  14          2\n",
              "5  15          3\n",
              "6  19          3\n",
              "7  20          2\n",
              "8  32          1\n",
              "9  33          1"
            ]
          },
          "metadata": {
            "tags": []
          },
          "execution_count": 50
        }
      ]
    },
    {
      "cell_type": "code",
      "metadata": {
        "id": "P5PGNsy9uU8b",
        "outputId": "43761f25-b2d5-4c26-f0e2-6583ae3eb897",
        "colab": {
          "base_uri": "https://localhost:8080/",
          "height": 343
        }
      },
      "source": [
        "pred=np.add(PRED_1,PRED_2)\n",
        "pred=np.add(pred,PRED_3)\n",
        "prediction=np.round(np.argmax(pred,axis=1)).astype(int)\n",
        "sub=pd.read_csv('/content/drive/My Drive/REVIEW CLASSIFIER/sample_submission.csv')\n",
        "sub['Sentiment']=prediction\n",
        "sub.to_csv('/content/drive/My Drive/REVIEW CLASSIFIER/sample_submission.csv', index=False)\n",
        "sub.head(10)"
      ],
      "execution_count": null,
      "outputs": [
        {
          "output_type": "execute_result",
          "data": {
            "text/html": [
              "<div>\n",
              "<style scoped>\n",
              "    .dataframe tbody tr th:only-of-type {\n",
              "        vertical-align: middle;\n",
              "    }\n",
              "\n",
              "    .dataframe tbody tr th {\n",
              "        vertical-align: top;\n",
              "    }\n",
              "\n",
              "    .dataframe thead th {\n",
              "        text-align: right;\n",
              "    }\n",
              "</style>\n",
              "<table border=\"1\" class=\"dataframe\">\n",
              "  <thead>\n",
              "    <tr style=\"text-align: right;\">\n",
              "      <th></th>\n",
              "      <th>Id</th>\n",
              "      <th>Sentiment</th>\n",
              "    </tr>\n",
              "  </thead>\n",
              "  <tbody>\n",
              "    <tr>\n",
              "      <th>0</th>\n",
              "      <td>1</td>\n",
              "      <td>2</td>\n",
              "    </tr>\n",
              "    <tr>\n",
              "      <th>1</th>\n",
              "      <td>4</td>\n",
              "      <td>2</td>\n",
              "    </tr>\n",
              "    <tr>\n",
              "      <th>2</th>\n",
              "      <td>5</td>\n",
              "      <td>2</td>\n",
              "    </tr>\n",
              "    <tr>\n",
              "      <th>3</th>\n",
              "      <td>12</td>\n",
              "      <td>2</td>\n",
              "    </tr>\n",
              "    <tr>\n",
              "      <th>4</th>\n",
              "      <td>14</td>\n",
              "      <td>2</td>\n",
              "    </tr>\n",
              "    <tr>\n",
              "      <th>5</th>\n",
              "      <td>15</td>\n",
              "      <td>3</td>\n",
              "    </tr>\n",
              "    <tr>\n",
              "      <th>6</th>\n",
              "      <td>19</td>\n",
              "      <td>3</td>\n",
              "    </tr>\n",
              "    <tr>\n",
              "      <th>7</th>\n",
              "      <td>20</td>\n",
              "      <td>2</td>\n",
              "    </tr>\n",
              "    <tr>\n",
              "      <th>8</th>\n",
              "      <td>32</td>\n",
              "      <td>2</td>\n",
              "    </tr>\n",
              "    <tr>\n",
              "      <th>9</th>\n",
              "      <td>33</td>\n",
              "      <td>2</td>\n",
              "    </tr>\n",
              "  </tbody>\n",
              "</table>\n",
              "</div>"
            ],
            "text/plain": [
              "   Id  Sentiment\n",
              "0   1          2\n",
              "1   4          2\n",
              "2   5          2\n",
              "3  12          2\n",
              "4  14          2\n",
              "5  15          3\n",
              "6  19          3\n",
              "7  20          2\n",
              "8  32          2\n",
              "9  33          2"
            ]
          },
          "metadata": {
            "tags": []
          },
          "execution_count": 49
        }
      ]
    },
    {
      "cell_type": "code",
      "metadata": {
        "id": "TegFyrTYkAZY",
        "outputId": "402cdbd0-96e3-4e29-ae44-0f7e855cd3f4",
        "colab": {
          "base_uri": "https://localhost:8080/",
          "height": 343
        }
      },
      "source": [
        "\n",
        "prediction=np.round(np.argmax(PRED_1,axis=1)).astype(int)\n",
        "sub=pd.read_csv('/content/drive/My Drive/REVIEW CLASSIFIER/sample_submission.csv')\n",
        "sub['Sentiment']=prediction\n",
        "sub.to_csv('/content/drive/My Drive/REVIEW CLASSIFIER/sample_submission.csv', index=False)\n",
        "sub.head(10)"
      ],
      "execution_count": null,
      "outputs": [
        {
          "output_type": "execute_result",
          "data": {
            "text/html": [
              "<div>\n",
              "<style scoped>\n",
              "    .dataframe tbody tr th:only-of-type {\n",
              "        vertical-align: middle;\n",
              "    }\n",
              "\n",
              "    .dataframe tbody tr th {\n",
              "        vertical-align: top;\n",
              "    }\n",
              "\n",
              "    .dataframe thead th {\n",
              "        text-align: right;\n",
              "    }\n",
              "</style>\n",
              "<table border=\"1\" class=\"dataframe\">\n",
              "  <thead>\n",
              "    <tr style=\"text-align: right;\">\n",
              "      <th></th>\n",
              "      <th>Id</th>\n",
              "      <th>Sentiment</th>\n",
              "    </tr>\n",
              "  </thead>\n",
              "  <tbody>\n",
              "    <tr>\n",
              "      <th>0</th>\n",
              "      <td>1</td>\n",
              "      <td>2</td>\n",
              "    </tr>\n",
              "    <tr>\n",
              "      <th>1</th>\n",
              "      <td>4</td>\n",
              "      <td>2</td>\n",
              "    </tr>\n",
              "    <tr>\n",
              "      <th>2</th>\n",
              "      <td>5</td>\n",
              "      <td>2</td>\n",
              "    </tr>\n",
              "    <tr>\n",
              "      <th>3</th>\n",
              "      <td>12</td>\n",
              "      <td>2</td>\n",
              "    </tr>\n",
              "    <tr>\n",
              "      <th>4</th>\n",
              "      <td>14</td>\n",
              "      <td>2</td>\n",
              "    </tr>\n",
              "    <tr>\n",
              "      <th>5</th>\n",
              "      <td>15</td>\n",
              "      <td>3</td>\n",
              "    </tr>\n",
              "    <tr>\n",
              "      <th>6</th>\n",
              "      <td>19</td>\n",
              "      <td>3</td>\n",
              "    </tr>\n",
              "    <tr>\n",
              "      <th>7</th>\n",
              "      <td>20</td>\n",
              "      <td>2</td>\n",
              "    </tr>\n",
              "    <tr>\n",
              "      <th>8</th>\n",
              "      <td>32</td>\n",
              "      <td>1</td>\n",
              "    </tr>\n",
              "    <tr>\n",
              "      <th>9</th>\n",
              "      <td>33</td>\n",
              "      <td>1</td>\n",
              "    </tr>\n",
              "  </tbody>\n",
              "</table>\n",
              "</div>"
            ],
            "text/plain": [
              "   Id  Sentiment\n",
              "0   1          2\n",
              "1   4          2\n",
              "2   5          2\n",
              "3  12          2\n",
              "4  14          2\n",
              "5  15          3\n",
              "6  19          3\n",
              "7  20          2\n",
              "8  32          1\n",
              "9  33          1"
            ]
          },
          "metadata": {
            "tags": []
          },
          "execution_count": 68
        }
      ]
    },
    {
      "cell_type": "code",
      "metadata": {
        "id": "4EEvk8ROVwCq",
        "outputId": "0e50699f-d04a-4568-e35b-98b2a488ab5a",
        "colab": {
          "base_uri": "https://localhost:8080/",
          "height": 343
        }
      },
      "source": [
        "PRED_1.shape\n",
        "pred=np.add(PRED_1,PRED_2)\n",
        "pred.shape\n",
        "prediction=np.round(np.argmax(pred,axis=1)).astype(int)\n",
        "sub=pd.read_csv('/content/drive/My Drive/REVIEW CLASSIFIER/sample_submission.csv')\n",
        "sub['Sentiment']=prediction\n",
        "sub.to_csv('/content/drive/My Drive/REVIEW CLASSIFIER/sample_submission.csv', index=False)\n",
        "sub.head(10)"
      ],
      "execution_count": null,
      "outputs": [
        {
          "output_type": "execute_result",
          "data": {
            "text/html": [
              "<div>\n",
              "<style scoped>\n",
              "    .dataframe tbody tr th:only-of-type {\n",
              "        vertical-align: middle;\n",
              "    }\n",
              "\n",
              "    .dataframe tbody tr th {\n",
              "        vertical-align: top;\n",
              "    }\n",
              "\n",
              "    .dataframe thead th {\n",
              "        text-align: right;\n",
              "    }\n",
              "</style>\n",
              "<table border=\"1\" class=\"dataframe\">\n",
              "  <thead>\n",
              "    <tr style=\"text-align: right;\">\n",
              "      <th></th>\n",
              "      <th>Id</th>\n",
              "      <th>Sentiment</th>\n",
              "    </tr>\n",
              "  </thead>\n",
              "  <tbody>\n",
              "    <tr>\n",
              "      <th>0</th>\n",
              "      <td>1</td>\n",
              "      <td>2</td>\n",
              "    </tr>\n",
              "    <tr>\n",
              "      <th>1</th>\n",
              "      <td>4</td>\n",
              "      <td>2</td>\n",
              "    </tr>\n",
              "    <tr>\n",
              "      <th>2</th>\n",
              "      <td>5</td>\n",
              "      <td>2</td>\n",
              "    </tr>\n",
              "    <tr>\n",
              "      <th>3</th>\n",
              "      <td>12</td>\n",
              "      <td>2</td>\n",
              "    </tr>\n",
              "    <tr>\n",
              "      <th>4</th>\n",
              "      <td>14</td>\n",
              "      <td>2</td>\n",
              "    </tr>\n",
              "    <tr>\n",
              "      <th>5</th>\n",
              "      <td>15</td>\n",
              "      <td>3</td>\n",
              "    </tr>\n",
              "    <tr>\n",
              "      <th>6</th>\n",
              "      <td>19</td>\n",
              "      <td>3</td>\n",
              "    </tr>\n",
              "    <tr>\n",
              "      <th>7</th>\n",
              "      <td>20</td>\n",
              "      <td>2</td>\n",
              "    </tr>\n",
              "    <tr>\n",
              "      <th>8</th>\n",
              "      <td>32</td>\n",
              "      <td>1</td>\n",
              "    </tr>\n",
              "    <tr>\n",
              "      <th>9</th>\n",
              "      <td>33</td>\n",
              "      <td>1</td>\n",
              "    </tr>\n",
              "  </tbody>\n",
              "</table>\n",
              "</div>"
            ],
            "text/plain": [
              "   Id  Sentiment\n",
              "0   1          2\n",
              "1   4          2\n",
              "2   5          2\n",
              "3  12          2\n",
              "4  14          2\n",
              "5  15          3\n",
              "6  19          3\n",
              "7  20          2\n",
              "8  32          1\n",
              "9  33          1"
            ]
          },
          "metadata": {
            "tags": []
          },
          "execution_count": 73
        }
      ]
    },
    {
      "cell_type": "markdown",
      "metadata": {
        "id": "-UlyeqFfICCe"
      },
      "source": [
        "model1=build_model()\n",
        "model1.summary()"
      ]
    },
    {
      "cell_type": "code",
      "metadata": {
        "id": "jins7FWtTbHS"
      },
      "source": [
        "hist2=model2.fit(Xtrain,ytrain,32,validation_data=(Xval,yval))"
      ],
      "execution_count": null,
      "outputs": []
    },
    {
      "cell_type": "code",
      "metadata": {
        "id": "kzt6luPgOQ8v"
      },
      "source": [
        "hist_2=model2.fit(Xtrain,ytrain,batch_size=32,epochs=10)"
      ],
      "execution_count": null,
      "outputs": []
    },
    {
      "cell_type": "code",
      "metadata": {
        "id": "DwJRhCpPqtzl"
      },
      "source": [
        "hist_2=model2.fit(Xtrain,ytrain,batch_size=256,verbose=1,epochs=5,validation_data=(Xval,yval))"
      ],
      "execution_count": null,
      "outputs": []
    },
    {
      "cell_type": "code",
      "metadata": {
        "id": "nhLcqTArx_t3"
      },
      "source": [
        "ep=range(1,6)\n",
        "plt.plot(ep,hist_2.history['val_loss'],'b--')\n",
        "plt.plot(ep,hist_2.history['loss'],'r--')"
      ],
      "execution_count": null,
      "outputs": []
    }
  ]
}